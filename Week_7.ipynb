{
 "cells": [
  {
   "cell_type": "markdown",
   "metadata": {},
   "source": [
    "## Opgave 1:\n",
    "Tilgå https://www.just-eat.dk/area/2800-kgs--lyngby/ og gem alle restauranter, hvor “pizza”, “pizzeria” eller “pizzaria” indgår (Tip: tag højde for store og små bogstaver). NB: For at tilgå just-eat.dk skal man have sat en user-agent i request.get() metoden (ellers blokerer just-eat ens netværk!).\n",
    "\n",
    "## Opgave 2:\n",
    "Find “Margherita” med størrelsen “Alm.” og gem priserne for hver restaurant.\n",
    "\n",
    "## Opgave 3:\n",
    "Brug efterfølgende matplotlib-biblioteket til at plotte et bar-chart med restaurant-navnene på x-aksen og margherita-priserne på y-aksen.\n",
    "\n",
    "## Ekstra opgave:\n",
    "Skriv en funktion, der kan tage antallet af restauranter for et postnummer på Just Eat (https://www.just-eat.dk/). Find dernæst antallet af restauranter for postnumrene: 2800, 2300 og 2100."
   ]
  },
  {
   "cell_type": "code",
   "execution_count": 3,
   "metadata": {},
   "outputs": [
    {
     "name": "stdout",
     "output_type": "stream",
     "text": [
      "['https://www.just-eat.dk/restaurants-burgerhouse2800/menu', 'https://www.just-eat.dk/restaurants-eda/menu', 'https://www.just-eat.dk/restaurants-jernbanekebab/menu', 'https://www.just-eat.dk/restaurants-itacho/menu', 'https://www.just-eat.dk/restaurants-namnam2800/menu', 'https://www.just-eat.dk/restaurants-misspizza/menu', 'https://www.just-eat.dk/restaurants-gepettos/menu', 'https://www.just-eat.dk/restaurants-indiavillage2800/menu', 'https://www.just-eat.dk/restaurants-lyngby-pizzeria-2800-kongens-lyngby/menu', 'https://www.just-eat.dk/restaurants-dominos-lyngby-/menu', 'https://www.just-eat.dk/restaurants-masala-corner-and-burger-corner-kobenhavn-nv/menu', 'https://www.just-eat.dk/restaurants-delicasa-indisk-kokken-and-pizzahouse-herlev/menu', 'https://www.just-eat.dk/restaurants-la-casa-kobenhavn-o/menu', 'https://www.just-eat.dk/restaurants-mevlana-2200/menu', 'https://www.just-eat.dk/restaurants-tasty-take-away-2860/menu', 'https://www.just-eat.dk/restaurants-byens-pizza-charlottenlund/menu', 'https://www.just-eat.dk/restaurants-youmi-sushi-bagsvard/menu', 'https://www.just-eat.dk/restaurants-miyama-restaurant-narum/menu', 'https://www.just-eat.dk/restaurants-sushi-fest-and-wok-2830/menu', 'https://www.just-eat.dk/restaurants-pizzatime2400/menu', 'https://www.just-eat.dk/restaurants-soyasushi/menu', 'https://www.just-eat.dk/restaurants-yami2920/menu', 'https://www.just-eat.dk/restaurants-nihao/menu', 'https://www.just-eat.dk/restaurants-nanosushi/menu', 'https://www.just-eat.dk/restaurants-sondergaard-park-pizzaria-/menu', 'https://www.just-eat.dk/restaurants-slikmix-smag-og-behag-hillerod/menu', 'https://www.just-eat.dk/restaurants-la-rosa-pizzaria-hellerup/menu', 'https://www.just-eat.dk/restaurants-mezzaluna/menu', 'https://www.just-eat.dk/restaurants-kardemomme-2-hellerup/menu', 'https://www.just-eat.dk/restaurants-vaerebro-pizza/menu', 'https://www.just-eat.dk/restaurants-sushimaster/menu', 'https://www.just-eat.dk/restaurants-sushifactory/menu', 'https://www.just-eat.dk/restaurants-bellarosa2880/menu', 'https://www.just-eat.dk/restaurants-cafem/menu', 'https://www.just-eat.dk/restaurants-corona2860/menu', 'https://www.just-eat.dk/restaurants-kings/menu', 'https://www.just-eat.dk/restaurants-buddinge-pizza-soborg/menu', 'https://www.just-eat.dk/restaurants-shangrila/menu', 'https://www.just-eat.dk/restaurants-pippali2730/menu', 'https://www.just-eat.dk/restaurants-fik-ret-pizzeriaa-soborg/menu', 'https://www.just-eat.dk/restaurants-laluna/menu', 'https://www.just-eat.dk/restaurants-alanya-by-night/menu', 'https://www.just-eat.dk/restaurants-india-spice-soborg/menu', 'https://www.just-eat.dk/restaurants-indian-maharaja/menu', 'https://www.just-eat.dk/restaurants-india-royale-bagsvaerd/menu', 'https://www.just-eat.dk/restaurants-village-tandoor-and-grill-kobenhavn-n/menu', 'https://www.just-eat.dk/restaurants-natteravnen/menu', 'https://www.just-eat.dk/restaurants-barletta-pizzeria-dyssegard/menu', 'https://www.just-eat.dk/restaurants-il-mondo-pizzaria-kongens-lyngby/menu', 'https://www.just-eat.dk/restaurants-indisktakeaway2800/menu', 'https://www.just-eat.dk/restaurants-mamarosa2830-/menu', 'https://www.just-eat.dk/restaurants-pops-pizza-kongens-lyngby/menu', 'https://www.just-eat.dk/restaurants-ella-sandwich-slice-and-fries-kongens-lyngby/menu', 'https://www.just-eat.dk/restaurants-canaria-pizzaria-og-kiosk-2-kongens-lyngby/menu', 'https://www.just-eat.dk/restaurants-goldenindian/menu', 'https://www.just-eat.dk/restaurants-hatoba-sushi----kongens-lyngby-kongens-lyngby/menu', 'https://www.just-eat.dk/restaurants-aji/menu', 'https://www.just-eat.dk/restaurants-saraspizza/menu', 'https://www.just-eat.dk/restaurants-madhuset-2800/menu', 'https://www.just-eat.dk/restaurants-kardemomme-lyngby/menu', 'https://www.just-eat.dk/restaurants-bindia-lyngby/menu', 'https://www.just-eat.dk/restaurants-aluna2800/menu', 'https://www.just-eat.dk/restaurants-sns-lyngby/menu', 'https://www.just-eat.dk/restaurants-letz-sushi---lyngby-lyngby/menu', 'https://www.just-eat.dk/restaurants-wokshoplyngby/menu', 'https://www.just-eat.dk/restaurants-halifax2800/menu', 'https://www.just-eat.dk/restaurants-brdr-prices-diner-lyngby/menu', 'https://www.just-eat.dk/restaurants-nybrokioskpizzeria/menu', 'https://www.just-eat.dk/restaurants-hurlehej-slik-herlev/menu', 'https://www.just-eat.dk/restaurants-shabaz-soborg/menu', 'https://www.just-eat.dk/restaurants-shammfood-soborg/menu', 'https://www.just-eat.dk/restaurants-candy2870/menu', 'https://www.just-eat.dk/restaurants-kinome-hellerup/menu', 'https://www.just-eat.dk/restaurants-cafe-melia-soborg/menu', 'https://www.just-eat.dk/restaurants-zetuna/menu', 'https://www.just-eat.dk/restaurants-a-bagel-soborg/menu', 'https://www.just-eat.dk/restaurants-chinagarden/menu', 'https://www.just-eat.dk/restaurants-nora-thai-take-away-s-gentofte/menu', 'https://www.just-eat.dk/restaurants-phoenixrunningsushi/menu', 'https://www.just-eat.dk/restaurants-wasabisushilounge/menu', 'https://www.just-eat.dk/restaurants-lagodigarda/menu', 'https://www.just-eat.dk/restaurants-thsorensen/menu', 'https://www.just-eat.dk/restaurants-byenssmoerrebroed/menu', 'https://www.just-eat.dk/restaurants-pizzahusetbagsvaerd/menu', 'https://www.just-eat.dk/restaurants-kebabhouse2860/menu', 'https://www.just-eat.dk/restaurants-kazmi-herlev/menu', 'https://www.just-eat.dk/restaurants-greenmango2820a/menu', 'https://www.just-eat.dk/restaurants-taarbaekpizza/menu', 'https://www.just-eat.dk/restaurants-dengsushithai/menu', 'https://www.just-eat.dk/restaurants-greenmango2860/menu', 'https://www.just-eat.dk/restaurants-kingmasala/menu', 'https://www.just-eat.dk/restaurants-sushi2500-soborg-/menu', 'https://www.just-eat.dk/restaurants-bindia-soborg-soborg/menu', 'https://www.just-eat.dk/restaurants-itzipitzihellerup/menu', 'https://www.just-eat.dk/restaurants-shaap-hoersholm/menu', 'https://www.just-eat.dk/restaurants-love-sushi/menu', 'https://www.just-eat.dk/restaurants-sushione/menu', 'https://www.just-eat.dk/restaurants-kildebakken1/menu', 'https://www.just-eat.dk/restaurants-Esperiabuddinge/menu', 'https://www.just-eat.dk/restaurants-sushitime/menu', 'https://www.just-eat.dk/restaurants-ny-zi-yang-gentofte/menu', 'https://www.just-eat.dk/restaurants-densortegryde2860/menu', 'https://www.just-eat.dk/restaurants-dar-atlas-bagsvard/menu', 'https://www.just-eat.dk/restaurants-mc-donalds-gentofte/menu', 'https://www.just-eat.dk/restaurants-latino2830/menu', 'https://www.just-eat.dk/restaurants-paradis-lyngbyhovedgade/menu', 'https://www.just-eat.dk/restaurants-burgerhouse2800_old/menu', 'https://www.just-eat.dk/restaurants-homemate-lyngby/menu', 'https://www.just-eat.dk/restaurants-meyers2800/menu', 'https://www.just-eat.dk/restaurants-parkenssmorrebrod/menu', 'https://www.just-eat.dk/restaurants-paradis-lyngbyhovedgade_old/menu', 'https://www.just-eat.dk/restaurants-bluetaco2800/menu', 'https://www.just-eat.dk/restaurants-wokshopkinopalaet/menu', 'https://www.just-eat.dk/restaurants-sb-2800-2/menu', 'https://www.just-eat.dk/restaurants-burger-king-lyngby/menu', 'https://www.just-eat.dk/restaurants-cocksandcows2800/menu', 'https://www.just-eat.dk/restaurants-fresh-up-bagsvard/menu', 'https://www.just-eat.dk/restaurants-yuzusushi/menu', 'https://www.just-eat.dk/restaurants-club-riva-rungsted-kyst/menu', 'https://www.just-eat.dk/restaurants-love-sushi_old/menu', 'https://www.just-eat.dk/restaurants-uodomi2860/menu', 'https://www.just-eat.dk/restaurants-bali-holte/menu', 'https://www.just-eat.dk/restaurants-simonepizzeria/menu', 'https://www.just-eat.dk/restaurants-miezio-pizz-osterbro/menu', 'https://www.just-eat.dk/restaurants-latinos-chicken-virum/menu', 'https://www.just-eat.dk/restaurants-pizzaperfetto/menu', 'https://www.just-eat.dk/restaurants-ribhouse2860/menu', 'https://www.just-eat.dk/restaurants-gufhuset-ballerupp-ballerup/menu', 'https://www.just-eat.dk/restaurants-marketenderi-og-pizzaria-soborg/menu']\n",
      "{'https://www.just-eat.dk/restaurants-burgerhouse2800/menu': '55', 'https://www.just-eat.dk/restaurants-eda/menu': '56', 'https://www.just-eat.dk/restaurants-jernbanekebab/menu': '74', 'https://www.just-eat.dk/restaurants-misspizza/menu': '58', 'https://www.just-eat.dk/restaurants-gepettos/menu': '56'}\n"
     ]
    }
   ],
   "source": [
    "import bs4\n",
    "import requests\n",
    "import re\n",
    "import pandas as pd\n",
    "\n",
    "headers = {\n",
    "    'User-Agent': 'Mozilla/5.0 (Windows NT 10.0; Win64; x64) AppleWebKit/537.36 (KHTML, like Gecko) Chrome/88.0.4324.192 Safari/537.36 OPR/74.0.3911.218'\n",
    "}\n",
    "\n",
    "def get_html_from_url(url):\n",
    "    r = requests.get(url, headers = headers)\n",
    "    soup = bs4.BeautifulSoup(r.text, 'html.parser')\n",
    "    return soup\n",
    "\n",
    "url = 'https://www.just-eat.dk/area/2800-kgs--lyngby/'\n",
    "soup = get_html_from_url(url)\n",
    "\n",
    "event_cells = soup.findAll('h3', attrs= {'class': 'listing-item-title'})\n",
    "pizza_checker = re.compile(r'([\\w ]+)*(Pizza|Pizzeria|Pizzaria)([\\w ]+)*')\n",
    "pizza_list = []\n",
    "for e in event_cells:\n",
    "    restaurant_with_pizza = pizza_checker.match(str(e.text))\n",
    "    if (restaurant_with_pizza != None):\n",
    "        pizza_list.append(restaurant_with_pizza.group())\n",
    "        \n",
    "# print(pizza_list)\n",
    "\n",
    "restaurant_links = []\n",
    "for a in soup.select('a'):\n",
    "    if (a.get('href') and a.get('href').startswith('/restaurants')):\n",
    "        link = 'https://www.just-eat.dk' + a.get('href')\n",
    "        restaurant_links.append(link)\n",
    "\n",
    "print(restaurant_links)\n",
    "\n",
    "margherita_priser = {}\n",
    "def get_margherita_price(url):\n",
    "    r = requests.get(url, headers = headers)\n",
    "    soup = bs4.BeautifulSoup(r.text, 'html.parser')\n",
    "    products = soup.findAll('div', attrs= {'class': 'menu-product'})\n",
    "    margherita_reg = re.compile(r'Margherita')\n",
    "    price_reg = re.compile(r'(\\d{2})')\n",
    "    for p in products:\n",
    "        if (margherita_reg.search(p.getText()) is not None):\n",
    "            margherita_priser[url] = price_reg.search(p.getText()).group()\n",
    "    \n",
    "for link in restaurant_links:\n",
    "    get_margherita_price(link)\n",
    "\n",
    "print(margherita_priser)"
   ]
  }
 ],
 "metadata": {
  "kernelspec": {
   "display_name": "Python 3",
   "language": "python",
   "name": "python3"
  },
  "language_info": {
   "codemirror_mode": {
    "name": "ipython",
    "version": 3
   },
   "file_extension": ".py",
   "mimetype": "text/x-python",
   "name": "python",
   "nbconvert_exporter": "python",
   "pygments_lexer": "ipython3",
   "version": "3.7.6"
  }
 },
 "nbformat": 4,
 "nbformat_minor": 4
}
