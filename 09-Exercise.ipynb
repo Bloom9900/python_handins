{
 "cells": [
  {
   "cell_type": "markdown",
   "metadata": {},
   "source": [
    "# week 9 Exercise Feature space\n",
    "\n",
    "## Ex 1\n",
    "`Data = 'https://think.cs.vt.edu/corgis/datasets/csv/cars/cars.csv'`\n",
    "### Download the data\n",
    "\n",
    "- Programatically download the data from the above link.\n",
    "- Import the data into a Pandas dataframe.\n",
    "- Show the head of the Pandas dataframe.\n",
    "\n",
    "### Feature engineering\n",
    "- Reduce the dataset by:\n",
    "  - Make == Honda\n",
    "  - Fueltype == Gasoline\n",
    "  - Remove outliers. Hint: `df[column name'] < df['column name'].quantile(0.90)`\n",
    "  - Only use 2 features: 'Fuel Information.Highway mpg' and 'Engine Information.Engine Statistics.Horsepower'\n",
    "  - Normalize data (reduce values to be between 0 and 1)\n",
    "  \n",
    "### Linear regression\n",
    "\n",
    "- Perform linear regression where x = horsepower and y = mpg\n",
    "- What is the coefficient (slope) of your model? What does this number mean?\n",
    "- According to your model, what is `y` when `x=1`.\n",
    "- Show the regression line on a scatterplot with the other datapoints."
   ]
  },
  {
   "cell_type": "code",
   "execution_count": 353,
   "metadata": {},
   "outputs": [],
   "source": [
    "import requests\n",
    "import pandas as pd\n",
    "\n",
    "def download(url, filename):\n",
    "        r = requests.get(url)\n",
    "        if (r.status_code == 404):\n",
    "            raise NotFoundException(\"URL returned 404\")\n",
    "        else:\n",
    "            with open(filename, 'wb') as f:\n",
    "                f.write(r.content)\n",
    "            \n",
    "data = 'https://think.cs.vt.edu/corgis/datasets/csv/cars/cars.csv'\n",
    "\n",
    "download(data, 'cars.csv')\n",
    "\n"
   ]
  },
  {
   "cell_type": "code",
   "execution_count": 354,
   "metadata": {},
   "outputs": [
    {
     "name": "stdout",
     "output_type": "stream",
     "text": [
      "   Dimensions.Height  Dimensions.Length  Dimensions.Width  \\\n",
      "0                140                143               202   \n",
      "\n",
      "  Engine Information.Driveline        Engine Information.Engine Type  \\\n",
      "0              All-wheel drive  Audi 3.2L 6 cylinder 250hp 236ft-lbs   \n",
      "\n",
      "   Engine Information.Hybrid  Engine Information.Number of Forward Gears  \\\n",
      "0                       True                                           6   \n",
      "\n",
      "  Engine Information.Transmission  Fuel Information.City mpg  \\\n",
      "0  6 Speed Automatic Select Shift                         18   \n",
      "\n",
      "  Fuel Information.Fuel Type  Fuel Information.Highway mpg  \\\n",
      "0                   Gasoline                            25   \n",
      "\n",
      "  Identification.Classification Identification.ID Identification.Make  \\\n",
      "0        Automatic transmission  2009 Audi A3 3.2                Audi   \n",
      "\n",
      "  Identification.Model Year  Identification.Year  \\\n",
      "0              2009 Audi A3                 2009   \n",
      "\n",
      "   Engine Information.Engine Statistics.Horsepower  \\\n",
      "0                                              250   \n",
      "\n",
      "   Engine Information.Engine Statistics.Torque  \n",
      "0                                          236  \n"
     ]
    }
   ],
   "source": [
    "cars_raw = pd.read_csv('cars.csv', delimiter=\",\")\n",
    "\n",
    "cars_df = pd.DataFrame(cars_raw)\n",
    "\n",
    "print(cars_df.head(1))"
   ]
  },
  {
   "cell_type": "code",
   "execution_count": 355,
   "metadata": {
    "scrolled": true
   },
   "outputs": [
    {
     "name": "stdout",
     "output_type": "stream",
     "text": [
      "(198, 18)\n"
     ]
    }
   ],
   "source": [
    "# variable = cars_df.loc[(cars_df[\"Identification.Make\"] == 'Honda')]\n",
    "# print(variable.shape)\n",
    "# variable = cars_df.loc[(cars_df[\"Identification.Make\"] == 'Honda') & (cars_df[\"Fuel Information.Fuel Type\"] != 'Gasoline')]\n",
    "# print(variable.shape)\n",
    "cars_df = cars_df[(cars_df[\"Identification.Make\"] == 'Honda') & (cars_df[\"Fuel Information.Fuel Type\"] == 'Gasoline')]\n",
    "\n",
    "print(cars_df.shape)"
   ]
  },
  {
   "cell_type": "code",
   "execution_count": 356,
   "metadata": {},
   "outputs": [
    {
     "data": {
      "text/plain": [
       "<matplotlib.axes._subplots.AxesSubplot at 0x7f7ab1882150>"
      ]
     },
     "execution_count": 356,
     "metadata": {},
     "output_type": "execute_result"
    },
    {
     "data": {
      "image/png": "[encoded data removed]",
      "text/plain": [
       "<Figure size 432x288 with 1 Axes>"
      ]
     },
     "metadata": {
      "needs_background": "light"
     },
     "output_type": "display_data"
    }
   ],
   "source": [
    "cars_raw['Engine Information.Engine Statistics.Horsepower'].plot()\n",
    "cars_raw['Fuel Information.Highway mpg'].plot()"
   ]
  },
  {
   "cell_type": "code",
   "execution_count": 357,
   "metadata": {},
   "outputs": [
    {
     "name": "stdout",
     "output_type": "stream",
     "text": [
      "      Dimensions.Height  Dimensions.Length  Dimensions.Width  \\\n",
      "102                 152                240                57   \n",
      "103                 152                240                57   \n",
      "104                 152                240                57   \n",
      "106                 152                240                57   \n",
      "107                 152                240                57   \n",
      "...                 ...                ...               ...   \n",
      "5067                  3                253               201   \n",
      "5068                  3                253               201   \n",
      "5069                  3                253               201   \n",
      "5070                  3                253               201   \n",
      "5071                 13                253               201   \n",
      "\n",
      "     Engine Information.Driveline           Engine Information.Engine Type  \\\n",
      "102             Front-wheel drive  Honda 2.4L 4 cylinder 190 hp 162 ft-lbs   \n",
      "103             Front-wheel drive  Honda 2.4L 4 cylinder 190 hp 162 ft-lbs   \n",
      "104             Front-wheel drive  Honda 2.4L 4 cylinder 190 hp 162 ft-lbs   \n",
      "106             Front-wheel drive  Honda 2.4L 4 cylinder 190 hp 162 ft-lbs   \n",
      "107             Front-wheel drive  Honda 2.4L 4 cylinder 190 hp 162 ft-lbs   \n",
      "...                           ...                                      ...   \n",
      "5067            Front-wheel drive  Honda 3.5L 6 Cylinder 250 hp 253 ft-lbs   \n",
      "5068             Four-wheel drive  Honda 3.5L 6 Cylinder 250 hp 253 ft-lbs   \n",
      "5069            Front-wheel drive  Honda 3.5L 6 Cylinder 250 hp 253 ft-lbs   \n",
      "5070             Four-wheel drive  Honda 3.5L 6 Cylinder 250 hp 253 ft-lbs   \n",
      "5071            Front-wheel drive  Honda 3.5L 6 Cylinder 250 hp 253 ft-lbs   \n",
      "\n",
      "      Engine Information.Hybrid  Engine Information.Number of Forward Gears  \\\n",
      "102                        True                                           5   \n",
      "103                        True                                           5   \n",
      "104                        True                                           5   \n",
      "106                        True                                           5   \n",
      "107                        True                                           5   \n",
      "...                         ...                                         ...   \n",
      "5067                       True                                           5   \n",
      "5068                       True                                           5   \n",
      "5069                       True                                           5   \n",
      "5070                       True                                           5   \n",
      "5071                       True                                           5   \n",
      "\n",
      "     Engine Information.Transmission  Fuel Information.City mpg  \\\n",
      "102                5 Speed Automatic                         21   \n",
      "103                   5 Speed Manual                         22   \n",
      "104                5 Speed Automatic                         21   \n",
      "106                   5 Speed Manual                         22   \n",
      "107                5 Speed Automatic                         21   \n",
      "...                              ...                        ...   \n",
      "5067               5 Speed Automatic                         18   \n",
      "5068               5 Speed Automatic                         17   \n",
      "5069               5 Speed Automatic                         18   \n",
      "5070               5 Speed Automatic                         17   \n",
      "5071               5 Speed Automatic                         18   \n",
      "\n",
      "     Fuel Information.Fuel Type  Fuel Information.Highway mpg  \\\n",
      "102                    Gasoline                            31   \n",
      "103                    Gasoline                            31   \n",
      "104                    Gasoline                            31   \n",
      "106                    Gasoline                            31   \n",
      "107                    Gasoline                            31   \n",
      "...                         ...                           ...   \n",
      "5067                   Gasoline                            25   \n",
      "5068                   Gasoline                            24   \n",
      "5069                   Gasoline                            25   \n",
      "5070                   Gasoline                            24   \n",
      "5071                   Gasoline                            25   \n",
      "\n",
      "     Identification.Classification               Identification.ID  \\\n",
      "102         Automatic transmission    2010 Honda Accord EX Coup AT   \n",
      "103            Manual transmission     2010 Honda Accord EX-L Coup   \n",
      "104         Automatic transmission  2010 Honda Accord EX-L Coup AT   \n",
      "106            Manual transmission       2010 Honda Accord EX Coup   \n",
      "107         Automatic transmission  2010 Honda Accord LX-S Coup AT   \n",
      "...                            ...                             ...   \n",
      "5067        Automatic transmission             2012 Honda Pilot LX   \n",
      "5068        Automatic transmission         2012 Honda Pilot LX 4WD   \n",
      "5069        Automatic transmission             2012 Honda Pilot EX   \n",
      "5070        Automatic transmission         2012 Honda Pilot EX 4WD   \n",
      "5071        Automatic transmission           2012 Honda Pilot EX-L   \n",
      "\n",
      "     Identification.Make Identification.Model Year  Identification.Year  \\\n",
      "102                Honda   2010 Honda Accord Coupe                 2010   \n",
      "103                Honda   2010 Honda Accord Coupe                 2010   \n",
      "104                Honda   2010 Honda Accord Coupe                 2010   \n",
      "106                Honda   2010 Honda Accord Coupe                 2010   \n",
      "107                Honda   2010 Honda Accord Coupe                 2010   \n",
      "...                  ...                       ...                  ...   \n",
      "5067               Honda          2012 Honda Pilot                 2012   \n",
      "5068               Honda          2012 Honda Pilot                 2012   \n",
      "5069               Honda          2012 Honda Pilot                 2012   \n",
      "5070               Honda          2012 Honda Pilot                 2012   \n",
      "5071               Honda          2012 Honda Pilot                 2012   \n",
      "\n",
      "      Engine Information.Engine Statistics.Horsepower  \\\n",
      "102                                               190   \n",
      "103                                               190   \n",
      "104                                               190   \n",
      "106                                               190   \n",
      "107                                               190   \n",
      "...                                               ...   \n",
      "5067                                              250   \n",
      "5068                                              250   \n",
      "5069                                              250   \n",
      "5070                                              250   \n",
      "5071                                              250   \n",
      "\n",
      "      Engine Information.Engine Statistics.Torque  \n",
      "102                                           162  \n",
      "103                                           162  \n",
      "104                                           162  \n",
      "106                                           162  \n",
      "107                                           162  \n",
      "...                                           ...  \n",
      "5067                                          253  \n",
      "5068                                          253  \n",
      "5069                                          253  \n",
      "5070                                          253  \n",
      "5071                                          253  \n",
      "\n",
      "[139 rows x 18 columns]\n"
     ]
    }
   ],
   "source": [
    "cars_df =  cars_df[(cars_df['Engine Information.Engine Statistics.Horsepower'] < cars_df['Engine Information.Engine Statistics.Horsepower'].quantile(0.90)) & (cars_df['Fuel Information.Highway mpg'] < cars_df['Fuel Information.Highway mpg'].quantile(0.90))]\n",
    "print(cars_df)"
   ]
  },
  {
   "cell_type": "code",
   "execution_count": 358,
   "metadata": {},
   "outputs": [
    {
     "name": "stdout",
     "output_type": "stream",
     "text": [
      "      Engine Information.Engine Statistics.Horsepower  \\\n",
      "102                                               190   \n",
      "103                                               190   \n",
      "104                                               190   \n",
      "106                                               190   \n",
      "107                                               190   \n",
      "...                                               ...   \n",
      "5067                                              250   \n",
      "5068                                              250   \n",
      "5069                                              250   \n",
      "5070                                              250   \n",
      "5071                                              250   \n",
      "\n",
      "      Fuel Information.Highway mpg  \n",
      "102                             31  \n",
      "103                             31  \n",
      "104                             31  \n",
      "106                             31  \n",
      "107                             31  \n",
      "...                            ...  \n",
      "5067                            25  \n",
      "5068                            24  \n",
      "5069                            25  \n",
      "5070                            24  \n",
      "5071                            25  \n",
      "\n",
      "[139 rows x 2 columns]\n"
     ]
    }
   ],
   "source": [
    "cars_df_tf = cars_df[[\"Engine Information.Engine Statistics.Horsepower\", \"Fuel Information.Highway mpg\"]]\n",
    "print(cars_df_tf)"
   ]
  },
  {
   "cell_type": "code",
   "execution_count": 359,
   "metadata": {
    "scrolled": false
   },
   "outputs": [
    {
     "name": "stdout",
     "output_type": "stream",
     "text": [
      "            0         1\n",
      "0    0.986950  0.161029\n",
      "1    0.986950  0.161029\n",
      "2    0.986950  0.161029\n",
      "3    0.986950  0.161029\n",
      "4    0.986950  0.161029\n",
      "..        ...       ...\n",
      "134  0.995037  0.099504\n",
      "135  0.995424  0.095561\n",
      "136  0.995037  0.099504\n",
      "137  0.995424  0.095561\n",
      "138  0.995037  0.099504\n",
      "\n",
      "[139 rows x 2 columns]\n"
     ]
    }
   ],
   "source": [
    "from sklearn import preprocessing\n",
    "normalized = preprocessing.normalize(cars_df_tf)\n",
    "normalized = pd.DataFrame(normalized)\n",
    "print(normalized)\n",
    "#min_max_scaler = preprocessing.MinMaxScaler()\n",
    "#cars_df_normalized = pd.DataFrame(min_max_scaler.fit_transform(cars_df))\n",
    "#cars_df_normalized = (cars_df-cars_df.min())/(cars_df.max()-cars_df.min())\n",
    "# Will not use MinMaxScaler as it lost labels"
   ]
  },
  {
   "cell_type": "code",
   "execution_count": 360,
   "metadata": {},
   "outputs": [
    {
     "data": {
      "text/plain": [
       "array([-5.41126123])"
      ]
     },
     "execution_count": 360,
     "metadata": {},
     "output_type": "execute_result"
    }
   ],
   "source": [
    "import numpy as np\n",
    "import sklearn\n",
    "import sklearn.linear_model\n",
    "import matplotlib.pyplot as plt\n",
    "\n",
    "\n",
    "xs = normalized[0]\n",
    "ys = normalized[1]\n",
    "\n",
    "xs = np.array(xs).reshape(-1, 1)\n",
    "\n",
    "model = sklearn.linear_model.LinearRegression()\n",
    "model.fit(xs, ys)\n",
    "model.coef_\n",
    "\n",
    "# The coefficient is the number in front of the x in our formula, which means the amount the function\n",
    "# will either raise or fall with. In our case it will fall with -5.41 for each 1 unit on the x-axis"
   ]
  },
  {
   "cell_type": "code",
   "execution_count": 364,
   "metadata": {},
   "outputs": [
    {
     "name": "stdout",
     "output_type": "stream",
     "text": [
      "[0.08131972]\n"
     ]
    }
   ],
   "source": [
    "print(model.predict(np.array([1]).reshape(1,-1))) # Library function to calculate mathematical function and answer in that exact point"
   ]
  },
  {
   "cell_type": "code",
   "execution_count": 361,
   "metadata": {},
   "outputs": [
    {
     "data": {
      "text/plain": [
       "<matplotlib.axes._subplots.AxesSubplot at 0x7f7ab13e2650>"
      ]
     },
     "execution_count": 361,
     "metadata": {},
     "output_type": "execute_result"
    },
    {
     "data": {
      "image/png": "[encoded data removed]",
      "text/plain": [
       "<Figure size 432x288 with 1 Axes>"
      ]
     },
     "metadata": {
      "needs_background": "light"
     },
     "output_type": "display_data"
    },
    {
     "data": {
      "image/png": "[encoded data removed]",
      "text/plain": [
       "<Figure size 432x288 with 1 Axes>"
      ]
     },
     "metadata": {
      "needs_background": "light"
     },
     "output_type": "display_data"
    }
   ],
   "source": [
    "cars_df_tf.plot.scatter(x=0, y=1)\n",
    "normalized.plot.scatter(x=0, y=1)"
   ]
  },
  {
   "cell_type": "code",
   "execution_count": 362,
   "metadata": {},
   "outputs": [
    {
     "data": {
      "image/png": "[encoded data removed]",
      "text/plain": [
       "<Figure size 432x288 with 1 Axes>"
      ]
     },
     "metadata": {
      "needs_background": "light"
     },
     "output_type": "display_data"
    }
   ],
   "source": [
    "Ys = model.predict(xs)\n",
    "\n",
    "plt.scatter(xs, ys, color=\"blue\")\n",
    "plt.scatter(xs, Ys, color=\"black\")\n",
    "plt.plot(xs, Ys, color='yellow')\n",
    "plt.show()"
   ]
  }
 ],
 "metadata": {
  "kernelspec": {
   "display_name": "Python 3",
   "language": "python",
   "name": "python3"
  },
  "language_info": {
   "codemirror_mode": {
    "name": "ipython",
    "version": 3
   },
   "file_extension": ".py",
   "mimetype": "text/x-python",
   "name": "python",
   "nbconvert_exporter": "python",
   "pygments_lexer": "ipython3",
   "version": "3.7.6"
  }
 },
 "nbformat": 4,
 "nbformat_minor": 4
}
