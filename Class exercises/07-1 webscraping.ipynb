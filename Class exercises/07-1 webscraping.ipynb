{
 "cells": [
  {
   "cell_type": "markdown",
   "metadata": {},
   "source": [
    "# Exercise 2: Writing a Simple Web Crawler\n",
    "\n",
    "Write a simple web crawler. More precisely, a program that extracts recursively all links from web pages. The result of running the web crawler is a dictionary, were the key-value pairs correspond to outgoing links from a web page with the URL, which is stored in the key.\n",
    "\n",
    "\n",
    "In case a page returns a status code, which is not `200` we just disregard this page. See https://en.wikipedia.org/wiki/List_of_HTTP_status_codes for more detailes on the various HTTP status codes."
   ]
  },
  {
   "cell_type": "code",
   "execution_count": 27,
   "metadata": {},
   "outputs": [
    {
     "data": {
      "text/plain": [
       "{'https://www.version2.dk/artikel/google-deepmind-vi-oeger-sikkerheden-mod-misbrug-sundhedsdata-1074452': [<a href=\"https://www.jobfinder.dk/jobs/category/it\" rel=\"external\" title=\"Job\">Job</a>,\n",
       "  <a href=\"https://pro.ing.dk/datatech/\" rel=\"external\" title=\"DataTech\">DataTech</a>,\n",
       "  <a href=\"https://pro.ing.dk/digitech\" title=\"DigiTech\">DigiTech</a>,\n",
       "  <a href=\"https://techmanagement.dk/\" title=\"Tech Management\">Tech Management</a>,\n",
       "  <a href=\"https://ing.dk/\" title=\"ing.dk\">ing.dk</a>,\n",
       "  <a href=\"http://www.e-pages.dk/ming/95/\" rel=\"external\" title=\"IT Company Rank\">IT Company Rank</a>,\n",
       "  <a href=\"https://ing.dk/insights/it\" title=\"Webinarer/whitepapers\">Webinarer/whitepapers</a>,\n",
       "  <a href=\"https://teknologiensmediehus.dk/politikker#persondatapolitik\" rel=\"nofollow\" title=\"Privatlivspolitik\">Privatlivspolitik</a>,\n",
       "  <a href=\"http://ing.dk/insights\" title=\"Ingeniøren Insights\">Ingeniøren Insights</a>,\n",
       "  <a href=\"https://www.version2.dk/indhold/1091437\" title=\"Online seminarer\">Online seminarer</a>,\n",
       "  <a href=\"https://www.infosecurity.dk/\" target=\"_blank\" title=\"infosecurity.dk\">infosecurity.dk</a>,\n",
       "  <a href=\"https://www.ing.dk/\" rel=\"nofollow\" target=\"_blank\" title=\"Ingeniøren\"><div class=\"site-name\">Ingeniøren</div><div class=\"site-teaser\">Nyheder og debat om den teknologiske udvikling</div></a>,\n",
       "  <a href=\"https://www.version2.dk/\" rel=\"nofollow\" target=\"_blank\" title=\"Version2\"><div class=\"site-name site-name-current\">Version2</div><div class=\"site-teaser\">Nyheder til it-professionelle</div></a>,\n",
       "  <a href=\"https://pro.ing.dk/\" rel=\"nofollow\" target=\"_blank\" title=\"PRO.\"><div class=\"site-name\">PRO.</div><div class=\"site-teaser\">Dybt indblik i udvalgte brancher</div></a>,\n",
       "  <a href=\"https://techmanagement.dk/\" rel=\"nofollow\" target=\"_blank\" title=\"Tech Management\"><div class=\"site-name\">Tech Management</div><div class=\"site-teaser\">Ledelse, strategi og teknologi</div></a>,\n",
       "  <a href=\"https://www.jobfinder.dk/\" rel=\"nofollow\" target=\"_blank\" title=\"Jobfinder\"><div class=\"site-name\">Jobfinder</div><div class=\"site-teaser\">Danmarks største jobplatform for ingeniører, IT-professionelle og tekniske specialister</div></a>,\n",
       "  <a href=\"https://teknologiensmediehus.dk/\" rel=\"nofollow\" target=\"_blank\" title=\"Teknologiens Mediehus\"><div class=\"site-name\">Teknologiens Mediehus</div><div class=\"site-teaser\">Læs mere om vores mediebrands, events, rekrutterings- og annoncemuligheder</div></a>,\n",
       "  <a href=\"https://www.jobfinder.dk/jobs/category/it\" rel=\"external\" title=\"Job\">Job</a>,\n",
       "  <a href=\"https://pro.ing.dk/datatech/\" rel=\"external\" title=\"DataTech\">DataTech</a>,\n",
       "  <a href=\"https://pro.ing.dk/digitech\" title=\"DigiTech\">DigiTech</a>,\n",
       "  <a href=\"https://techmanagement.dk/\" title=\"Tech Management\">Tech Management</a>,\n",
       "  <a href=\"https://ing.dk/\" title=\"ing.dk\">ing.dk</a>,\n",
       "  <a href=\"http://www.e-pages.dk/ming/95/\" rel=\"external\" title=\"IT Company Rank\">IT Company Rank</a>,\n",
       "  <a href=\"https://ing.dk/insights/it\" title=\"Webinarer/whitepapers\">Webinarer/whitepapers</a>,\n",
       "  <a href=\"https://teknologiensmediehus.dk/politikker#persondatapolitik\" rel=\"nofollow\" title=\"Privatlivspolitik\">Privatlivspolitik</a>,\n",
       "  <a href=\"http://ing.dk/insights\" title=\"Ingeniøren Insights\">Ingeniøren Insights</a>,\n",
       "  <a href=\"https://www.version2.dk/indhold/1091437\" title=\"Online seminarer\">Online seminarer</a>,\n",
       "  <a href=\"https://www.infosecurity.dk/\" target=\"_blank\" title=\"infosecurity.dk\">infosecurity.dk</a>,\n",
       "  <a href=\"https://www.facebook.com/sharer/sharer.php?u=https%3A%2F%2Fwww.version2.dk%2Fartikel%2Fgoogle-deepmind-vi-oeger-sikkerheden-mod-misbrug-sundhedsdata-1074452%3Futm_source%3Dfacebook%26utm_medium%3Dsocial%26utm_content%3Dsocial_top__date_placeholder%26utm_campaign%3Dsocialbuttons&amp;title=Google+Deepmind%3A+Vi+%C3%B8ger+sikkerheden+mod+misbrug+af+sundhedsdata\" rel=\"me nofollow\" target=\"_blank\" title=\"Share the article on Facebook\"><img alt=\"Share the article on Facebook\" height=\"25\" src=\"https://www.version2.dk/sites/all/themes/ing/ing_base/images/facebook.svg\" title=\"Share on Facebook\" width=\"25\"/></a>,\n",
       "  <a class=\"twitter-share-button-image\" href=\"https://twitter.com/intent/tweet?original_referer=https%3A%2F%2Fwww.version2.dk%2Fartikel%2Fgoogle-deepmind-vi-oeger-sikkerheden-mod-misbrug-sundhedsdata-1074452%3Futm_source%3Dtwitter%26utm_medium%3Dsocial%26utm_content%3Dsocial_top__date_placeholder%26utm_campaign%3Dsocialbuttons&amp;via=@version2dk&amp;text=Google+Deepmind%3A+Vi+%C3%B8ger+sikkerheden+mod+misbrug+af+sundhedsdata&amp;url=https%3A%2F%2Fwww.version2.dk%2Fartikel%2Fgoogle-deepmind-vi-oeger-sikkerheden-mod-misbrug-sundhedsdata-1074452%3Futm_source%3Dtwitter%26utm_medium%3Dsocial%26utm_content%3Dsocial_top__date_placeholder%26utm_campaign%3Dsocialbuttons\" rel=\"me nofollow\" target=\"_blank\" title=\"Share the article on Twitter\"><img alt=\"Share the article on Twitter\" height=\"25\" src=\"https://www.version2.dk/sites/all/themes/ing/ing_base/images/twitter.svg\" title=\"Share on Twitter\" width=\"25\"/></a>,\n",
       "  <a href=\"https://www.linkedin.com/shareArticle?mini=true&amp;url=https%3A%2F%2Fwww.version2.dk%2Fartikel%2Fgoogle-deepmind-vi-oeger-sikkerheden-mod-misbrug-sundhedsdata-1074452%3Futm_source%3Dlinkedin%26utm_medium%3Dsocial%26utm_content%3Dsocial_top__date_placeholder%26utm_campaign%3Dsocialbuttons&amp;title=Google+Deepmind%3A+Vi+%C3%B8ger+sikkerheden+mod+misbrug+af+sundhedsdata\" rel=\"me nofollow\" target=\"_blank\" title=\"Share the article on LinkedIn\"><img alt=\"Share the article on LinkedIn\" height=\"25\" src=\"https://www.version2.dk/sites/all/themes/ing/ing_base/images/linkedin.svg\" title=\"Share on LinkedIn\" width=\"25\"/></a>,\n",
       "  <a class=\"facebook-follow\" href=\"https://www.facebook.com/version2dk\" rel=\"me nofollow\" target=\"_blank\" title=\"Follow Version2 on Facebook\"><img alt=\"Follow Version2 on Facebook\" height=\"25\" src=\"https://www.version2.dk/sites/all/themes/ing/ing_base/images/follow.svg\" width=\"63\"/></a>,\n",
       "  <a href=\"https://deepmind.com/blog/trust-confidence-verifiable-data-audit/\" target=\"_blank\" title=\"selskabet i en blog.\">selskabet i en blog.</a>,\n",
       "  <a href=\"https://mit.tekhus.dk/profile/interests\" target=\"_blank\" title=\"Tilmeld dig fra din brugerprofil\">Tilmeld dig fra din brugerprofil</a>,\n",
       "  <a class=\"\" href=\"https://ing.dk/ida-koncernen\" target=\"_blank\" title=\"IDA-gruppen\">IDA-gruppen</a>,\n",
       "  <a href=\"https://www.facebook.com/sharer/sharer.php?u=https%3A%2F%2Fwww.version2.dk%2Fartikel%2Fgoogle-deepmind-vi-oeger-sikkerheden-mod-misbrug-sundhedsdata-1074452%3Futm_source%3Dfacebook%26utm_medium%3Dsocial%26utm_content%3Dsocial_bottom__date_placeholder%26utm_campaign%3Dsocialbuttons&amp;title=Google+Deepmind%3A+Vi+%C3%B8ger+sikkerheden+mod+misbrug+af+sundhedsdata\" rel=\"me nofollow\" target=\"_blank\" title=\"Share the article on Facebook\"><img alt=\"Share the article on Facebook\" height=\"25\" src=\"https://www.version2.dk/sites/all/themes/ing/ing_base/images/facebook.svg\" title=\"Share on Facebook\" width=\"25\"/></a>,\n",
       "  <a class=\"twitter-share-button-image\" href=\"https://twitter.com/intent/tweet?original_referer=https%3A%2F%2Fwww.version2.dk%2Fartikel%2Fgoogle-deepmind-vi-oeger-sikkerheden-mod-misbrug-sundhedsdata-1074452%3Futm_source%3Dtwitter%26utm_medium%3Dsocial%26utm_content%3Dsocial_bottom__date_placeholder%26utm_campaign%3Dsocialbuttons&amp;via=@version2dk&amp;text=Google+Deepmind%3A+Vi+%C3%B8ger+sikkerheden+mod+misbrug+af+sundhedsdata&amp;url=https%3A%2F%2Fwww.version2.dk%2Fartikel%2Fgoogle-deepmind-vi-oeger-sikkerheden-mod-misbrug-sundhedsdata-1074452%3Futm_source%3Dtwitter%26utm_medium%3Dsocial%26utm_content%3Dsocial_bottom__date_placeholder%26utm_campaign%3Dsocialbuttons\" rel=\"me nofollow\" target=\"_blank\" title=\"Share the article on Twitter\"><img alt=\"Share the article on Twitter\" height=\"25\" src=\"https://www.version2.dk/sites/all/themes/ing/ing_base/images/twitter.svg\" title=\"Share on Twitter\" width=\"25\"/></a>,\n",
       "  <a href=\"https://www.linkedin.com/shareArticle?mini=true&amp;url=https%3A%2F%2Fwww.version2.dk%2Fartikel%2Fgoogle-deepmind-vi-oeger-sikkerheden-mod-misbrug-sundhedsdata-1074452%3Futm_source%3Dlinkedin%26utm_medium%3Dsocial%26utm_content%3Dsocial_bottom__date_placeholder%26utm_campaign%3Dsocialbuttons&amp;title=Google+Deepmind%3A+Vi+%C3%B8ger+sikkerheden+mod+misbrug+af+sundhedsdata\" rel=\"me nofollow\" target=\"_blank\" title=\"Share the article on LinkedIn\"><img alt=\"Share the article on LinkedIn\" height=\"25\" src=\"https://www.version2.dk/sites/all/themes/ing/ing_base/images/linkedin.svg\" title=\"Share on LinkedIn\" width=\"25\"/></a>,\n",
       "  <a class=\"facebook-follow\" href=\"https://www.facebook.com/version2dk\" rel=\"me nofollow\" target=\"_blank\" title=\"Follow Version2 on Facebook\"><img alt=\"Follow Version2 on Facebook\" height=\"25\" src=\"https://www.version2.dk/sites/all/themes/ing/ing_base/images/follow.svg\" width=\"63\"/></a>,\n",
       "  <a href=\"http://www.udvalgte-ordsprog.dk/at-koebe-katten-i-saekken.htm\" rel=\"nofollow\">katten i sækken</a>,\n",
       "  <a class=\"button\" href=\"https://ing.dk/insights\" target=\"_blank\" title=\"Webinars and Whitepapers\">Webinars and Whitepapers<i class=\"material-icons\">open_in_new</i></a>,\n",
       "  <a href=\"https://ing.dk/insights/endpoint-detection-and-response-advanced-threat-detection-focused-investigation-and\" target=\"_blank\" title=\"Endpoint Detection and Response - Advanced Threat Detection, Focused Investigation And Effective Response\"><img alt=\"Whitepaper\" src=\"/sites/v2/themes/version2/images/icon-whitepaper.svg\"/></a>,\n",
       "  <a href=\"https://ing.dk/insights/endpoint-detection-and-response-advanced-threat-detection-focused-investigation-and\" target=\"_blank\" title=\"Endpoint Detection and Response - Advanced Threat Detection, Focused Investigation And Effective Response\">Endpoint Detection and Response - Advanced Threat Detection, Focused Investigation And Effective Response</a>,\n",
       "  <a class=\"button\" href=\"https://ing.dk/insights\" target=\"_blank\" title=\"Se flere\">Se flere<i class=\"material-icons\">open_in_new</i></a>,\n",
       "  <a href=\"https://www.jobfinder.dk\" title=\"IT-jobs fra Jobfinder\"><img alt=\"Jobfinder Logo\" src=\"/sites/v2/themes/version2/images/logos/jobfinder-logo-white.svg\" title=\"Jobfinder Logo\"/></a>,\n",
       "  <a href=\"https://www.jobfinder.dk/user\" rel=\"external\" title=\"Upload dit CV\"> <span class=\"job-profil\">Upload dit CV</span>\n",
       "  </a>,\n",
       "  <a href=\"https://jobfinder.dk/jobagent\" rel=\"external\" title=\"Få nye job via e-mail\"> <span class=\"job-agent\">Få nye job via e-mail</span>\n",
       "  </a>,\n",
       "  <a href=\"https://www.jobfinder.dk/recruiter\" rel=\"external\" title=\"Upload din jobannonce\"> <span class=\"job-recruiter\">Upload din jobannonce</span>\n",
       "  </a>,\n",
       "  <a href=\"https://www.jobfinder.dk/job/udvikler-73267?utm_source=version2.dk&amp;utm_medium=website&amp;utm_campaign=job_widget&amp;utm_content=&amp;trackid%5B0%5D=156&amp;trackid%5B1%5D=44\" title=\"Udvikler\"><img alt=\"Patent- og Varemærkestyrelsen\" src=\"https://www.version2.dk/sites/v2/files/styles/job_logo_120/public/externals/9862a7debed20a8eeb3044116ec1338c.jpg?itok=KlTLp918\" title=\"Udvikler\"/></a>,\n",
       "  <a href=\"https://www.jobfinder.dk/job/udvikler-73267?utm_source=version2.dk&amp;utm_medium=website&amp;utm_campaign=job_widget&amp;utm_content=&amp;trackid%5B0%5D=156&amp;trackid%5B1%5D=44\" title=\"Udvikler\">Udvikler</a>,\n",
       "  <a href=\"https://www.jobfinder.dk/job/it-sourcing-contract-manager-73411?utm_source=version2.dk&amp;utm_medium=website&amp;utm_campaign=job_widget&amp;utm_content=&amp;trackid%5B0%5D=156&amp;trackid%5B1%5D=44\" title=\"IT Sourcing &amp; Contract Manager\"><img alt=\"Ambu A/S\" src=\"https://www.version2.dk/sites/v2/files/styles/job_logo_120/public/externals/b9c912cce490907df0a497f4417c61ec.jpg?itok=hSD72s4x\" title=\"IT Sourcing &amp; Contract Manager\"/></a>,\n",
       "  <a href=\"https://www.jobfinder.dk/job/it-sourcing-contract-manager-73411?utm_source=version2.dk&amp;utm_medium=website&amp;utm_campaign=job_widget&amp;utm_content=&amp;trackid%5B0%5D=156&amp;trackid%5B1%5D=44\" title=\"IT Sourcing &amp; Contract Manager\">IT Sourcing &amp; Contract Manager</a>,\n",
       "  <a href=\"https://www.jobfinder.dk/job/dedicated-it-system-manager-production-oral-finished-products-73293?utm_source=version2.dk&amp;utm_medium=website&amp;utm_campaign=job_widget&amp;utm_content=&amp;trackid%5B0%5D=156&amp;trackid%5B1%5D=44\" title=\"Dedicated IT System Manager to production in Oral Finished Products\"><img alt=\"Novo Nordisk A/S\" src=\"https://www.version2.dk/sites/v2/files/styles/job_logo_120/public/externals/54b8a57439475a59d63d8fa41e939795.jpg?itok=eF1oqmU_\" title=\"Dedicated IT System Manager to production in Oral Finished Products\"/></a>,\n",
       "  <a href=\"https://www.jobfinder.dk/job/dedicated-it-system-manager-production-oral-finished-products-73293?utm_source=version2.dk&amp;utm_medium=website&amp;utm_campaign=job_widget&amp;utm_content=&amp;trackid%5B0%5D=156&amp;trackid%5B1%5D=44\" title=\"Dedicated IT System Manager to production in Oral Finished Products\">Dedicated IT System Manager to production in Oral Finished Products</a>,\n",
       "  <a href=\"https://www.jobfinder.dk/job/data-engineer-73606?utm_source=version2.dk&amp;utm_medium=website&amp;utm_campaign=job_widget&amp;utm_content=&amp;trackid%5B0%5D=156&amp;trackid%5B1%5D=44\" title=\"Data Engineer\"><img alt=\"Nomeco A/S\" src=\"https://www.version2.dk/sites/v2/files/styles/job_logo_120/public/externals/c85cdb6c6f372dfbaf9c3694dde33f3f.jpg?itok=QbBx7k7w\" title=\"Data Engineer\"/></a>,\n",
       "  <a href=\"https://www.jobfinder.dk/job/data-engineer-73606?utm_source=version2.dk&amp;utm_medium=website&amp;utm_campaign=job_widget&amp;utm_content=&amp;trackid%5B0%5D=156&amp;trackid%5B1%5D=44\" title=\"Data Engineer\">Data Engineer</a>,\n",
       "  <a href=\"https://www.jobfinder.dk/job/crm-manager-72598?utm_source=version2.dk&amp;utm_medium=website&amp;utm_campaign=job_widget&amp;utm_content=&amp;trackid%5B0%5D=156&amp;trackid%5B1%5D=44\" title=\"CRM Manager\"><img alt=\"LINAK A/S\" src=\"https://www.version2.dk/sites/v2/files/styles/job_logo_120/public/externals/be39308666fb5adcdf78a918293e18a4.jpg?itok=2BGcXBlR\" title=\"CRM Manager\"/></a>,\n",
       "  <a href=\"https://www.jobfinder.dk/job/crm-manager-72598?utm_source=version2.dk&amp;utm_medium=website&amp;utm_campaign=job_widget&amp;utm_content=&amp;trackid%5B0%5D=156&amp;trackid%5B1%5D=44\" title=\"CRM Manager\">CRM Manager</a>,\n",
       "  <a href=\"https://teknologiensmediehus.dk/\" target=\"_blank\" title=\"TEKNOLOGIENS MEDIEHUS\"></a>,\n",
       "  <a href=\"https://ing.dk/\" rel=\"nofollow\" target=\"_blank\" title=\"Ingeniøren\"></a>,\n",
       "  <a href=\"https://pro.ing.dk/\" rel=\"nofollow\" target=\"_blank\" title=\"PRO.\"></a>,\n",
       "  <a href=\"https://www.jobfinder.dk/\" rel=\"nofollow\" target=\"_blank\" title=\"Jobfinder\"></a>,\n",
       "  <a href=\"https://teknologiensmediehus.dk/about\" target=\"_blank\" title=\"Mere om Teknologiens Mediehus\">Mere om Teknologiens Mediehus</a>,\n",
       "  <a href=\"https://ing.dk/abonnementstyper/\" target=\"_blank\" title=\"Læs her om vores forskellige abonnementstyper\">vores forskellige abonnementstyper</a>,\n",
       "  <a href=\"https://teknologiensmediehus.dk/annoncering/version2-online\" target=\"_blank\" title=\"Hvad kan vi tilbyde?\">Hvad kan vi tilbyde?</a>,\n",
       "  <a href=\"http://teknologiensmediehus.dk/annoncering/tech-relations\" target=\"_blank\" title=\"Tech Relations\">Tech Relations</a>,\n",
       "  <a href=\"https://www.jobfinder.dk/jobs\" target=\"_blank\" title=\"Find job\">Find job</a>,\n",
       "  <a href=\"https://www.jobfinder.dk/recruiter\" target=\"_blank\" title=\"Indryk job\">Indryk job</a>,\n",
       "  <a href=\"https://teknologiensmediehus.dk/about#salg-job\" target=\"_blank\" title=\"Kontakt salg\">Kontakt salg</a>,\n",
       "  <a href=\"https://teknologiensmediehus.dk/about#kontakt-redaktionen\" target=\"_blank\" title=\"Kontakt redaktionen\">Kontakt redaktionen</a>,\n",
       "  <a href=\"http://teknologiensmediehus.dk/about\" title=\"Om\">Om</a>,\n",
       "  <a href=\"http://teknologiensmediehus.dk/about#hvem-er-vi\" title=\"Kontakt\">Kontakt</a>,\n",
       "  <a href=\"http://teknologiensmediehus.dk/politikker\" title=\"Vores politikker\">Vores politikker</a>,\n",
       "  <a href=\"https://teknologiensmediehus.dk/annoncering/version2-online\" title=\"Annoncer hos os\">Annoncer hos os</a>]}"
      ]
     },
     "execution_count": 27,
     "metadata": {},
     "output_type": "execute_result"
    }
   ],
   "source": [
    "import requests\n",
    "import bs4\n",
    "\n",
    "def scrape_links(from_url, for_depth, all_links={}):\n",
    "    # TODO: Implement code for websraper\n",
    "    r = requests.get(from_url)\n",
    "    r.raise_for_status()\n",
    "    soup = bs4.BeautifulSoup(r.text, 'html.parser')\n",
    "    elems = []\n",
    "    for a in soup.select('a'):\n",
    "        if(a.get('href') and a.get('href').startswith('http')):\n",
    "            elems.append(a)\n",
    "    all_links[from_url] = elems\n",
    "    return all_links\n",
    "\n",
    "start_url = 'https://www.version2.dk/artikel/google-deepmind-vi-oeger-sikkerheden-mod-misbrug-sundhedsdata-1074452'\n",
    "\n",
    "link_dict = scrape_links(from_url=start_url, for_depth=2)\n",
    "link_dict"
   ]
  },
  {
   "cell_type": "markdown",
   "metadata": {},
   "source": [
    "## Exercise with findall()\n",
    "In the following text find all the family names of everyone with first name Peter:\n",
    "\n",
    "\"Peter Hansen was meeting up with Jacob Fransen for a quick lunch, but first he had to go by Peter Beier to pick up some chokolate for his wife. Meanwhile Pastor Peter Jensen was going to church to give his sermon for the same 3 people in his parish. Those were Peter Kold and Henrik Halberg plus a third person who had recently moved here from Norway called Peter Harold\"."
   ]
  },
  {
   "cell_type": "code",
   "execution_count": 34,
   "metadata": {},
   "outputs": [
    {
     "data": {
      "text/plain": [
       "[('Peter', 'Hansen'),\n",
       " ('Peter', 'Beier'),\n",
       " ('Peter', 'Jensen'),\n",
       " ('Peter', 'Kold'),\n",
       " ('Peter', 'Harold')]"
      ]
     },
     "execution_count": 34,
     "metadata": {},
     "output_type": "execute_result"
    }
   ],
   "source": [
    "import re\n",
    "\n",
    "name_reg = re.compile(r'(Peter) (\\w+)')\n",
    "text = \"Peter Hansen was meeting up with Jacob Fransen for a quick lunch, but first he had to go by Peter Beier to pick up some chokolate for his wife. Meanwhile Pastor Peter Jensen was going to church to give his sermon for the same 3 people in his parish. Those were Peter Kold and Henrik Halberg plus a third person who had recently moved here from Norway called Peter Harold\"\n",
    "\n",
    "names = name_reg.findall(text)\n",
    "names"
   ]
  }
 ],
 "metadata": {
  "kernelspec": {
   "display_name": "Python 3",
   "language": "python",
   "name": "python3"
  },
  "language_info": {
   "codemirror_mode": {
    "name": "ipython",
    "version": 3
   },
   "file_extension": ".py",
   "mimetype": "text/x-python",
   "name": "python",
   "nbconvert_exporter": "python",
   "pygments_lexer": "ipython3",
   "version": "3.7.6"
  }
 },
 "nbformat": 4,
 "nbformat_minor": 4
}
