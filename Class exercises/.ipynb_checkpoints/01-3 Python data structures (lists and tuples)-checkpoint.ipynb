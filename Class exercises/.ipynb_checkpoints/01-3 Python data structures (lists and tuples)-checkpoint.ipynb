{
 "cells": [
  {
   "cell_type": "markdown",
   "metadata": {},
   "source": [
    "# Class exercise 1"
   ]
  },
  {
   "cell_type": "code",
   "execution_count": 1,
   "metadata": {},
   "outputs": [
    {
     "name": "stdout",
     "output_type": "stream",
     "text": [
      "[1, 3, 5, 7, 9, 11, 13, 15, 17, 19]\n"
     ]
    }
   ],
   "source": [
    "# 1. Use the range() function to make a list of the odd numbers from 1 to 20. Hint in ipython and this notebooks you can see a functions help text by executing for example range?\n",
    "\n",
    "numbers = [num for num in range(1, 20 + 1) if (num % 2 == 1)]\n",
    "print(numbers)"
   ]
  },
  {
   "cell_type": "code",
   "execution_count": 2,
   "metadata": {},
   "outputs": [
    {
     "name": "stdout",
     "output_type": "stream",
     "text": [
      "Mindste nummer:  2\n",
      "Største nummer:  1000000\n",
      "Summen af tallene:  250000500000\n"
     ]
    }
   ],
   "source": [
    "# 2. Create a list with the even number values from two to one million. Use min(list) and max(list) to make sure your list actually starts at two and ends at one million. Also, use the sum(list) function to compute the sum of all values.\n",
    "\n",
    "numbers = [num for num in range(2, 1000000 + 1) if (num % 2 == 0)]\n",
    "print(\"Mindste nummer: \", min(numbers))\n",
    "print(\"Største nummer: \", max(numbers))\n",
    "print(\"Summen af tallene: \", sum(numbers))"
   ]
  },
  {
   "cell_type": "code",
   "execution_count": 3,
   "metadata": {},
   "outputs": [
    {
     "name": "stdout",
     "output_type": "stream",
     "text": [
      "[3, 6, 9, 12, 15, 18, 21, 24, 27, 30, 33, 36, 39, 42, 45, 48, 51, 54, 57, 60, 63, 66, 69, 72, 75, 78, 81, 84, 87, 90, 93, 96, 99, 102, 105, 108, 111, 114, 117, 120, 123, 126, 129, 132, 135, 138, 141, 144, 147, 150, 153, 156, 159, 162, 165, 168, 171, 174, 177, 180, 183, 186, 189, 192, 195, 198, 201, 204, 207, 210, 213, 216, 219, 222, 225, 228, 231, 234, 237, 240, 243, 246, 249, 252, 255, 258, 261, 264, 267, 270, 273, 276, 279, 282, 285, 288, 291, 294, 297, 300]\n"
     ]
    }
   ],
   "source": [
    "# 3. Create a list of the multiples of 3 - going from 3 to 300. HINT: USE A LIST COMPREHENSION\n",
    "\n",
    "numbers = [num for num in range(1, 300 + 1) if (num % 3 == 0)]\n",
    "print(numbers)"
   ]
  },
  {
   "cell_type": "code",
   "execution_count": 4,
   "metadata": {},
   "outputs": [
    {
     "name": "stdout",
     "output_type": "stream",
     "text": [
      "[1, 8, 27, 64, 125, 216, 343, 512, 729, 1000]\n"
     ]
    }
   ],
   "source": [
    "# 4. A number raised to the third power is called a cube. For example, the cube of 2 is written as 2**3 in Python. Create a list of the first 10 cubes (that is, the cube of each integer from 1 through 10).\n",
    "numbers = [num**3 for num in range(1, 10 + 1)]\n",
    "print(numbers)"
   ]
  }
 ],
 "metadata": {
  "kernelspec": {
   "display_name": "Python 3",
   "language": "python",
   "name": "python3"
  },
  "language_info": {
   "codemirror_mode": {
    "name": "ipython",
    "version": 3
   },
   "file_extension": ".py",
   "mimetype": "text/x-python",
   "name": "python",
   "nbconvert_exporter": "python",
   "pygments_lexer": "ipython3",
   "version": "3.7.6"
  }
 },
 "nbformat": 4,
 "nbformat_minor": 4
}
