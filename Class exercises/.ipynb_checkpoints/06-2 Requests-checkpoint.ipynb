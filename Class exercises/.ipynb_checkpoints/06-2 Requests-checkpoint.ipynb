{
 "cells": [
  {
   "cell_type": "markdown",
   "metadata": {},
   "source": [
    "## Class exercise\n",
    "#### Create a small program that can get whether data from Aarhus\n",
    "You must first register an account on https://openweathermap.org/ and generate an api key (at the tab by the same name)"
   ]
  },
  {
   "cell_type": "code",
   "execution_count": 26,
   "metadata": {},
   "outputs": [
    {
     "data": {
      "text/plain": [
       "[{'id': 800, 'main': 'Clear', 'description': 'clear sky', 'icon': '01d'}]"
      ]
     },
     "execution_count": 26,
     "metadata": {},
     "output_type": "execute_result"
    }
   ],
   "source": [
    "import json\n",
    "import requests\n",
    "#from my_notebooks.my_modules import api_keys\n",
    "\n",
    "url = 'http://api.openweathermap.org/data/2.5/weather'\n",
    "api_key = '20027c5f9fff50efc5e896c098c35e48'\n",
    "query= {\n",
    "    'q': 'Aarhus,dk',\n",
    "    'units': 'metric',\n",
    "    'appid': '672c6213771e500acc44e219e5c231f8'\n",
    "}\n",
    "r = requests.get(url, params=query)\n",
    "\n",
    "r.json()['weather']"
   ]
  }
 ],
 "metadata": {
  "kernelspec": {
   "display_name": "Python 3",
   "language": "python",
   "name": "python3"
  },
  "language_info": {
   "codemirror_mode": {
    "name": "ipython",
    "version": 3
   },
   "file_extension": ".py",
   "mimetype": "text/x-python",
   "name": "python",
   "nbconvert_exporter": "python",
   "pygments_lexer": "ipython3",
   "version": "3.7.6"
  }
 },
 "nbformat": 4,
 "nbformat_minor": 4
}
