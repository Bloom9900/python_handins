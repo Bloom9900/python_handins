{
 "cells": [
  {
   "cell_type": "markdown",
   "metadata": {},
   "source": [
    "# Class exercise 1"
   ]
  },
  {
   "cell_type": "code",
   "execution_count": 2,
   "metadata": {},
   "outputs": [
    {
     "name": "stdout",
     "output_type": "stream",
     "text": [
      "8-3-85\n"
     ]
    }
   ],
   "source": [
    "# 1. A date of the form 8-MAR-85 includes the name of the month, which must be translated to a number\n",
    "\n",
    "string = \"8-MAR-85\"\n",
    "\n",
    "months_dict = {\n",
    "    'JAN': 1,\n",
    "    'FEB': 2,\n",
    "    'MAR': 3,\n",
    "    'APRIL': 4,\n",
    "    'MAY': 5,\n",
    "    'JUNE': 6,\n",
    "    'JULY': 7,\n",
    "    'AUGUST': 8,\n",
    "    'SEPTEMBER': 9,\n",
    "    'OCTOBER': 10,\n",
    "    'NOVEMBER': 11,\n",
    "    'DECEMBER': 12\n",
    "}\n",
    "\n",
    "for key in months_dict.keys():\n",
    "    if(key in string):\n",
    "        string_split = string.split('-')\n",
    "        string_split[1] = months_dict.get(key)\n",
    "        new_date = (str(string_split[0]), str(string_split[1]), str(string_split[2]))\n",
    "\n",
    "print('-'.join(new_date))"
   ]
  }
 ],
 "metadata": {
  "kernelspec": {
   "display_name": "Python 3",
   "language": "python",
   "name": "python3"
  },
  "language_info": {
   "codemirror_mode": {
    "name": "ipython",
    "version": 3
   },
   "file_extension": ".py",
   "mimetype": "text/x-python",
   "name": "python",
   "nbconvert_exporter": "python",
   "pygments_lexer": "ipython3",
   "version": "3.7.6"
  }
 },
 "nbformat": 4,
 "nbformat_minor": 4
}
