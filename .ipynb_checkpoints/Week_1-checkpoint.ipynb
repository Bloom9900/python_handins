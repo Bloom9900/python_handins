{
 "cells": [
  {
   "cell_type": "markdown",
   "metadata": {},
   "source": [
    "# Week 1 handin"
   ]
  },
  {
   "cell_type": "markdown",
   "metadata": {},
   "source": [
    "## 01 Assignment\n",
    "1. Create 5 list comprehensions to solve the following 5 problems:\n",
    "  1. Iterate a list of names to return a list of the names starting with H\n",
    "  2. In one line create a list of the numbers 1-100 to the power of 3\n",
    "  3. Iterate a list of names to create a list of tuples where the tuples first value is the length of the name and the second is the name\n",
    "  4. Iterate over each character in a string and get only those that are nummeric\n",
    "  5. Using only a list comprehension wrapped in set() get all possible combination from throwing 2 dice (hint use 2 for loops in a single list comprehension)\n",
    "\n",
    "2. Create 2 dictionary comprehensions to solve the following:\n",
    "  1. Iterate a list of names and create a dictionary where key is the name and value is the length of the name\n",
    "  2. Iterate a list of numbers and create a dictionary with {key:value} being {number:squareroot_of_number}\n",
    "\n",
    "3. Extra assignment (This one goes beyond what is covered in the course notebooks. So only do it if you want an extra challenge).\n",
    "  - Progammatically using loops create a small program to produce a dictionary with all the 2 dice throw combinations as keys and their likelyhood in percent as values"
   ]
  },
  {
   "cell_type": "markdown",
   "metadata": {},
   "source": [
    "## 02 Status\n",
    "All assignments are finished. Both in class exercise in /../Class exercise and the current weeks exercises are done below.\n",
    "Will now upload to GitHub and mybinder and hand in."
   ]
  },
  {
   "cell_type": "markdown",
   "metadata": {},
   "source": [
    "## Exercise 1 Create 5 list comprehensions to solve the following 5 problems:"
   ]
  },
  {
   "cell_type": "code",
   "execution_count": 1,
   "metadata": {},
   "outputs": [
    {
     "name": "stdout",
     "output_type": "stream",
     "text": [
      "['Hanna', 'Klaus', 'Josefine', 'Henrik']\n",
      "['Hanna', 'Henrik']\n"
     ]
    }
   ],
   "source": [
    "# A. Iterate a list of names to return a list of the names starting with H\n",
    "\n",
    "names = ['Hanna', 'Klaus', 'Josefine', 'Henrik']\n",
    "print(names)\n",
    "\n",
    "names_with_h = [name for name in names if (name[0] == 'H')]\n",
    "\n",
    "print(names_with_h)"
   ]
  },
  {
   "cell_type": "code",
   "execution_count": 16,
   "metadata": {},
   "outputs": [
    {
     "name": "stdout",
     "output_type": "stream",
     "text": [
      "[1, 8, 27, 64, 125, 216, 343, 512, 729, 1000, 1331, 1728, 2197, 2744, 3375, 4096, 4913, 5832, 6859, 8000, 9261, 10648, 12167, 13824, 15625, 17576, 19683, 21952, 24389, 27000, 29791, 32768, 35937, 39304, 42875, 46656, 50653, 54872, 59319, 64000, 68921, 74088, 79507, 85184, 91125, 97336, 103823, 110592, 117649, 125000, 132651, 140608, 148877, 157464, 166375, 175616, 185193, 195112, 205379, 216000, 226981, 238328, 250047, 262144, 274625, 287496, 300763, 314432, 328509, 343000, 357911, 373248, 389017, 405224, 421875, 438976, 456533, 474552, 493039, 512000, 531441, 551368, 571787, 592704, 614125, 636056, 658503, 681472, 704969, 729000, 753571, 778688, 804357, 830584, 857375, 884736, 912673, 941192, 970299]\n"
     ]
    }
   ],
   "source": [
    "# B. In one line create a list of the numbers 1-100 to the power of 3\n",
    "\n",
    "numbers = list(range(1,100))\n",
    "numbersPower3 = [element**3 for element in numbers]\n",
    "\n",
    "print(numbersPower3)"
   ]
  },
  {
   "cell_type": "code",
   "execution_count": 18,
   "metadata": {},
   "outputs": [
    {
     "name": "stdout",
     "output_type": "stream",
     "text": [
      "[(5, 'Hanna'), (5, 'Klaus'), (8, 'Josefine'), (6, 'Henrik')]\n"
     ]
    }
   ],
   "source": [
    "# C. Iterate a list of names to create a list of tuples where the tuples first value is the length of the name \n",
    "#    and the second is the name\n",
    "\n",
    "tuple_list = [(len(name), name) for name in names]\n",
    "\n",
    "print(tuple_list)"
   ]
  },
  {
   "cell_type": "code",
   "execution_count": 17,
   "metadata": {},
   "outputs": [
    {
     "name": "stdout",
     "output_type": "stream",
     "text": [
      "Denne character har numerisk værdi:  7\n",
      "Denne character har numerisk værdi:  6\n"
     ]
    }
   ],
   "source": [
    "# D. Iterate over each character in a string and get only those that are nummeric\n",
    "\n",
    "string = \"Find tallet 7i denne string6\"\n",
    "\n",
    "for character in string:\n",
    "    if(character.isdigit()):\n",
    "        print(\"Denne character har numerisk værdi: \", character)"
   ]
  },
  {
   "cell_type": "code",
   "execution_count": 19,
   "metadata": {},
   "outputs": [
    {
     "name": "stdout",
     "output_type": "stream",
     "text": [
      "{(1, 3), (6, 6), (5, 6), (2, 1), (6, 2), (1, 6), (5, 1), (2, 5), (1, 2), (3, 3), (5, 5), (4, 4), (6, 3), (1, 5), (3, 6), (2, 2), (4, 1), (1, 1), (6, 4), (3, 2), (2, 6), (5, 4), (4, 5), (5, 2), (1, 4), (2, 3), (4, 2), (6, 5), (3, 5), (5, 3), (4, 6), (6, 1), (3, 1), (4, 3), (3, 4), (2, 4)}\n"
     ]
    }
   ],
   "source": [
    "# E. Using only a list comprehension wrapped in set() get all possible combination from throwing 2 dice (hint use 2 for loops in a single list comprehension)\n",
    "\n",
    "dices = list(range(1,7))\n",
    "\n",
    "roll_combinations = set([(throw1, throw2) for throw1 in dices for throw2 in dices])\n",
    "print(roll_combinations)"
   ]
  },
  {
   "cell_type": "markdown",
   "metadata": {},
   "source": [
    "## Exercise 2 Create 2 dictionary comprehensions to solve the following:"
   ]
  },
  {
   "cell_type": "code",
   "execution_count": 22,
   "metadata": {},
   "outputs": [
    {
     "name": "stdout",
     "output_type": "stream",
     "text": [
      "{'Oscar': 5, 'Victor': 6, 'Magnus': 6, 'Sebastian': 9, 'Sofie': 5, 'Mathilde': 8}\n"
     ]
    }
   ],
   "source": [
    "# A. Iterate a list of names and create a dictionary where key is the name and value is the length of the name\n",
    "\n",
    "names = ['Oscar', 'Victor', 'Magnus', 'Sebastian', 'Sofie', 'Mathilde']\n",
    "\n",
    "dictionary = {}\n",
    "\n",
    "for name in names:\n",
    "    dictionary[name] = len(name)\n",
    "\n",
    "print(dictionary)"
   ]
  },
  {
   "cell_type": "code",
   "execution_count": 24,
   "metadata": {},
   "outputs": [
    {
     "name": "stdout",
     "output_type": "stream",
     "text": [
      "{9: 3.0, 25: 5.0, 36: 6.0, 49: 7.0}\n"
     ]
    }
   ],
   "source": [
    "# B. Iterate a list of numbers and create a dictionary with {key:value} being {number:squareroot_of_number}\n",
    "\n",
    "numbers = [9,25,36,49]\n",
    "\n",
    "numbers_dict = {}\n",
    "\n",
    "for number in numbers:\n",
    "    numbers_dict[number] = number**(1/2)\n",
    "\n",
    "print(numbers_dict)"
   ]
  },
  {
   "cell_type": "markdown",
   "metadata": {},
   "source": [
    "## Extra assignment (This one goes beyond what is covered in the course notebooks. So only do it if you want an extra challenge)"
   ]
  },
  {
   "cell_type": "code",
   "execution_count": 32,
   "metadata": {},
   "outputs": [
    {
     "name": "stdout",
     "output_type": "stream",
     "text": [
      "{(1, 3): 0.03, (6, 6): 0.03, (5, 6): 0.03, (2, 1): 0.03, (6, 2): 0.03, (1, 6): 0.03, (5, 1): 0.03, (2, 5): 0.03, (1, 2): 0.03, (3, 3): 0.03, (5, 5): 0.03, (4, 4): 0.03, (6, 3): 0.03, (1, 5): 0.03, (3, 6): 0.03, (2, 2): 0.03, (4, 1): 0.03, (1, 1): 0.03, (6, 4): 0.03, (3, 2): 0.03, (2, 6): 0.03, (5, 4): 0.03, (4, 5): 0.03, (5, 2): 0.03, (1, 4): 0.03, (2, 3): 0.03, (4, 2): 0.03, (6, 5): 0.03, (3, 5): 0.03, (5, 3): 0.03, (4, 6): 0.03, (6, 1): 0.03, (3, 1): 0.03, (4, 3): 0.03, (3, 4): 0.03, (2, 4): 0.03}\n"
     ]
    }
   ],
   "source": [
    "# Progammatically using loops create a small program to produce a dictionary with all the 2 dice throw combinations as keys and their likelyhood in percent as values\n",
    "\n",
    "dices = list(range(1,7))\n",
    "\n",
    "roll_combinations = set([(throw1, throw2) for throw1 in dices for throw2 in dices])\n",
    "\n",
    "dice_dict = {}\n",
    "\n",
    "for throw in roll_combinations:\n",
    "    dice_dict[throw] = round(1/len(roll_combinations), 2)\n",
    "\n",
    "print(dice_dict)"
   ]
  }
 ],
 "metadata": {
  "kernelspec": {
   "display_name": "Python 3",
   "language": "python",
   "name": "python3"
  },
  "language_info": {
   "codemirror_mode": {
    "name": "ipython",
    "version": 3
   },
   "file_extension": ".py",
   "mimetype": "text/x-python",
   "name": "python",
   "nbconvert_exporter": "python",
   "pygments_lexer": "ipython3",
   "version": "3.7.6"
  }
 },
 "nbformat": 4,
 "nbformat_minor": 4
}
